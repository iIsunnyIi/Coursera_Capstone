{
  "nbformat": 4,
  "nbformat_minor": 0,
  "metadata": {
    "colab": {
      "name": "Segmenting and Clustering Neighbourhood of Toronto Part 3.ipynb",
      "provenance": []
    },
    "kernelspec": {
      "name": "python3",
      "display_name": "Python 3"
    }
  },
  "cells": [
    {
      "cell_type": "markdown",
      "metadata": {
        "id": "bwtMkeMvFPNb",
        "colab_type": "text"
      },
      "source": [
        "Foursquare API to explore neighborhoods on selected cities in **Toronto** **bold text**"
      ]
    },
    {
      "cell_type": "code",
      "metadata": {
        "colab_type": "code",
        "id": "yLWtX-cV8e54",
        "colab": {}
      },
      "source": [
        "CLIENT_ID = 'DPBYY4JUY3DU20ALPSUV4ONY2K1GOJJKJ1NIHBB32XEMOVYY' # Put Your Client Id\n",
        "CLIENT_SECRET = '1MV443TYEP4HUO0WDUW5NQ5W10L2Y4G05NWG11WIR3NUGC5B' # Put You Client Secret \n",
        "VERSION = '20180604'\n",
        "LIMIT = 30\n",
        "print('Your credentails:')\n",
        "print('CLIENT_ID: Hidden')\n",
        "print('CLIENT_SECRET: Hidden')"
      ],
      "execution_count": 0,
      "outputs": []
    },
    {
      "cell_type": "code",
      "metadata": {
        "id": "r-bJMKweEpar",
        "colab_type": "code",
        "outputId": "a1f87969-749c-4098-bc07-c3ebc5e287a8",
        "colab": {
          "base_uri": "https://localhost:8080/",
          "height": 255
        }
      },
      "source": [
        "!pip install geopy\n",
        "!pip install folium\n",
        "print(\"Installed!\")"
      ],
      "execution_count": 0,
      "outputs": [
        {
          "output_type": "stream",
          "text": [
            "Requirement already satisfied: geopy in /usr/local/lib/python3.6/dist-packages (1.17.0)\n",
            "Requirement already satisfied: geographiclib<2,>=1.49 in /usr/local/lib/python3.6/dist-packages (from geopy) (1.50)\n",
            "Requirement already satisfied: folium in /usr/local/lib/python3.6/dist-packages (0.8.3)\n",
            "Requirement already satisfied: branca>=0.3.0 in /usr/local/lib/python3.6/dist-packages (from folium) (0.4.1)\n",
            "Requirement already satisfied: jinja2 in /usr/local/lib/python3.6/dist-packages (from folium) (2.11.2)\n",
            "Requirement already satisfied: six in /usr/local/lib/python3.6/dist-packages (from folium) (1.12.0)\n",
            "Requirement already satisfied: requests in /usr/local/lib/python3.6/dist-packages (from folium) (2.23.0)\n",
            "Requirement already satisfied: numpy in /usr/local/lib/python3.6/dist-packages (from folium) (1.18.4)\n",
            "Requirement already satisfied: MarkupSafe>=0.23 in /usr/local/lib/python3.6/dist-packages (from jinja2->folium) (1.1.1)\n",
            "Requirement already satisfied: urllib3!=1.25.0,!=1.25.1,<1.26,>=1.21.1 in /usr/local/lib/python3.6/dist-packages (from requests->folium) (1.24.3)\n",
            "Requirement already satisfied: idna<3,>=2.5 in /usr/local/lib/python3.6/dist-packages (from requests->folium) (2.9)\n",
            "Requirement already satisfied: chardet<4,>=3.0.2 in /usr/local/lib/python3.6/dist-packages (from requests->folium) (3.0.4)\n",
            "Requirement already satisfied: certifi>=2017.4.17 in /usr/local/lib/python3.6/dist-packages (from requests->folium) (2020.4.5.1)\n",
            "Installed!\n"
          ],
          "name": "stdout"
        }
      ]
    },
    {
      "cell_type": "code",
      "metadata": {
        "id": "O9iVy2VYEu_e",
        "colab_type": "code",
        "outputId": "31012846-e5b5-435c-e282-787d114cb691",
        "colab": {
          "base_uri": "https://localhost:8080/",
          "height": 34
        }
      },
      "source": [
        "import folium\n",
        "import requests \n",
        "import json \n",
        "import matplotlib.cm as cm\n",
        "import matplotlib.colors as colors\n",
        "import pandas as pd\n",
        "\n",
        "from pandas.io.json import json_normalize \n",
        "from sklearn.cluster import KMeans\n",
        "from geopy.geocoders import Nominatim \n",
        "\n",
        "pd.set_option('display.max_columns', None)\n",
        "pd.set_option('display.max_rows', None)\n",
        "\n",
        "print(\"Imported!\")"
      ],
      "execution_count": 0,
      "outputs": [
        {
          "output_type": "stream",
          "text": [
            "Imported!\n"
          ],
          "name": "stdout"
        }
      ]
    },
    {
      "cell_type": "code",
      "metadata": {
        "id": "VpIHmHqyExt3",
        "colab_type": "code",
        "outputId": "36470ae1-72f1-4d87-a580-5d58c903e256",
        "colab": {
          "base_uri": "https://localhost:8080/",
          "height": 221
        }
      },
      "source": [
        "df = pd.read_csv('toronto_part2.csv')\n",
        "print(df.shape)\n",
        "df.head()"
      ],
      "execution_count": 0,
      "outputs": [
        {
          "output_type": "stream",
          "text": [
            "(180, 5)\n"
          ],
          "name": "stdout"
        },
        {
          "output_type": "execute_result",
          "data": {
            "text/html": [
              "<div>\n",
              "<style scoped>\n",
              "    .dataframe tbody tr th:only-of-type {\n",
              "        vertical-align: middle;\n",
              "    }\n",
              "\n",
              "    .dataframe tbody tr th {\n",
              "        vertical-align: top;\n",
              "    }\n",
              "\n",
              "    .dataframe thead th {\n",
              "        text-align: right;\n",
              "    }\n",
              "</style>\n",
              "<table border=\"1\" class=\"dataframe\">\n",
              "  <thead>\n",
              "    <tr style=\"text-align: right;\">\n",
              "      <th></th>\n",
              "      <th>Postalcode</th>\n",
              "      <th>Borough</th>\n",
              "      <th>Neighborhood</th>\n",
              "      <th>Latitude</th>\n",
              "      <th>Longitude</th>\n",
              "    </tr>\n",
              "  </thead>\n",
              "  <tbody>\n",
              "    <tr>\n",
              "      <th>0</th>\n",
              "      <td>M1A\\n</td>\n",
              "      <td>Not assigned\\n</td>\n",
              "      <td>NaN</td>\n",
              "      <td>43.648690</td>\n",
              "      <td>-79.385440</td>\n",
              "    </tr>\n",
              "    <tr>\n",
              "      <th>1</th>\n",
              "      <td>M1B\\n</td>\n",
              "      <td>Scarborough\\n</td>\n",
              "      <td>Malvern, Rouge</td>\n",
              "      <td>43.808626</td>\n",
              "      <td>-79.189913</td>\n",
              "    </tr>\n",
              "    <tr>\n",
              "      <th>2</th>\n",
              "      <td>M1C\\n</td>\n",
              "      <td>Scarborough\\n</td>\n",
              "      <td>Rouge Hill, Port Union, Highland Creek</td>\n",
              "      <td>43.785779</td>\n",
              "      <td>-79.157368</td>\n",
              "    </tr>\n",
              "    <tr>\n",
              "      <th>3</th>\n",
              "      <td>M1E\\n</td>\n",
              "      <td>Scarborough\\n</td>\n",
              "      <td>Guildwood, Morningside, West Hill</td>\n",
              "      <td>43.765806</td>\n",
              "      <td>-79.185284</td>\n",
              "    </tr>\n",
              "    <tr>\n",
              "      <th>4</th>\n",
              "      <td>M1G\\n</td>\n",
              "      <td>Scarborough\\n</td>\n",
              "      <td>Woburn</td>\n",
              "      <td>43.771545</td>\n",
              "      <td>-79.218135</td>\n",
              "    </tr>\n",
              "  </tbody>\n",
              "</table>\n",
              "</div>"
            ],
            "text/plain": [
              "  Postalcode         Borough                            Neighborhood  \\\n",
              "0      M1A\\n  Not assigned\\n                                     NaN   \n",
              "1      M1B\\n   Scarborough\\n                          Malvern, Rouge   \n",
              "2      M1C\\n   Scarborough\\n  Rouge Hill, Port Union, Highland Creek   \n",
              "3      M1E\\n   Scarborough\\n       Guildwood, Morningside, West Hill   \n",
              "4      M1G\\n   Scarborough\\n                                  Woburn   \n",
              "\n",
              "    Latitude  Longitude  \n",
              "0  43.648690 -79.385440  \n",
              "1  43.808626 -79.189913  \n",
              "2  43.785779 -79.157368  \n",
              "3  43.765806 -79.185284  \n",
              "4  43.771545 -79.218135  "
            ]
          },
          "metadata": {
            "tags": []
          },
          "execution_count": 26
        }
      ]
    },
    {
      "cell_type": "code",
      "metadata": {
        "id": "qCZJXTrvE2gw",
        "colab_type": "code",
        "outputId": "5fd06c8a-f47c-4663-8e1f-a5032790535f",
        "colab": {
          "base_uri": "https://localhost:8080/",
          "height": 88
        }
      },
      "source": [
        "address = 'Toronto, Ontario Canada'\n",
        "geolocator = Nominatim()\n",
        "location = geolocator.geocode(address)\n",
        "latitude = location.latitude\n",
        "longitude = location.longitude\n",
        "print('The geograpical coordinate of Toronto Canada are {}, {}.'.format(latitude, longitude))"
      ],
      "execution_count": 0,
      "outputs": [
        {
          "output_type": "stream",
          "text": [
            "/usr/local/lib/python3.6/dist-packages/geopy/geocoders/osm.py:143: UserWarning: Using Nominatim with the default \"geopy/1.17.0\" `user_agent` is strongly discouraged, as it violates Nominatim's ToS https://operations.osmfoundation.org/policies/nominatim/ and may possibly cause 403 and 429 HTTP errors. Please specify a custom `user_agent` with `Nominatim(user_agent=\"my-application\")` or by overriding the default `user_agent`: `geopy.geocoders.options.default_user_agent = \"my-application\"`. In geopy 2.0 this will become an exception.\n",
            "  UserWarning\n"
          ],
          "name": "stderr"
        },
        {
          "output_type": "stream",
          "text": [
            "The geograpical coordinate of Toronto Canada are 43.6534817, -79.3839347.\n"
          ],
          "name": "stdout"
        }
      ]
    },
    {
      "cell_type": "code",
      "metadata": {
        "id": "iBBdMdqYE5mV",
        "colab_type": "code",
        "colab": {}
      },
      "source": [
        "map_toronto = folium.Map(location=[latitude, longitude], zoom_start=11)\n",
        "for lat, lng, borough, neighborhood in zip(df['Latitude'], df['Longitude'], df['Borough'], df['Neighborhood']):\n",
        "    label = '{}, {}'.format(neighborhood, borough)\n",
        "    label = folium.Popup(label, parse_html=True)\n",
        "    folium.CircleMarker(\n",
        "        [lat, lng],\n",
        "        radius=4,\n",
        "        popup=label,\n",
        "        color='blue',\n",
        "        fill=True,\n",
        "        fill_color='#87cefa',\n",
        "        fill_opacity=0.5,\n",
        "        parse_html=False).add_to(map_toronto)\n",
        "map_toronto"
      ],
      "execution_count": 0,
      "outputs": []
    },
    {
      "cell_type": "code",
      "metadata": {
        "id": "pv5aWphrE8fL",
        "colab_type": "code",
        "outputId": "3cf61212-c6af-431d-e6bb-7b24999837b4",
        "colab": {
          "base_uri": "https://localhost:8080/",
          "height": 221
        }
      },
      "source": [
        "toronto_data = df[df['Borough'].str.contains(\"Toronto\")].reset_index(drop=True)\n",
        "print(toronto_data.shape)\n",
        "toronto_data.head()"
      ],
      "execution_count": 0,
      "outputs": [
        {
          "output_type": "stream",
          "text": [
            "(39, 5)\n"
          ],
          "name": "stdout"
        },
        {
          "output_type": "execute_result",
          "data": {
            "text/html": [
              "<div>\n",
              "<style scoped>\n",
              "    .dataframe tbody tr th:only-of-type {\n",
              "        vertical-align: middle;\n",
              "    }\n",
              "\n",
              "    .dataframe tbody tr th {\n",
              "        vertical-align: top;\n",
              "    }\n",
              "\n",
              "    .dataframe thead th {\n",
              "        text-align: right;\n",
              "    }\n",
              "</style>\n",
              "<table border=\"1\" class=\"dataframe\">\n",
              "  <thead>\n",
              "    <tr style=\"text-align: right;\">\n",
              "      <th></th>\n",
              "      <th>Postalcode</th>\n",
              "      <th>Borough</th>\n",
              "      <th>Neighborhood</th>\n",
              "      <th>Latitude</th>\n",
              "      <th>Longitude</th>\n",
              "    </tr>\n",
              "  </thead>\n",
              "  <tbody>\n",
              "    <tr>\n",
              "      <th>0</th>\n",
              "      <td>M4E\\n</td>\n",
              "      <td>East Toronto\\n</td>\n",
              "      <td>The Beaches</td>\n",
              "      <td>43.678148</td>\n",
              "      <td>-79.295349</td>\n",
              "    </tr>\n",
              "    <tr>\n",
              "      <th>1</th>\n",
              "      <td>M4K\\n</td>\n",
              "      <td>East Toronto\\n</td>\n",
              "      <td>The Danforth West, Riverdale</td>\n",
              "      <td>43.683424</td>\n",
              "      <td>-79.354564</td>\n",
              "    </tr>\n",
              "    <tr>\n",
              "      <th>2</th>\n",
              "      <td>M4L\\n</td>\n",
              "      <td>East Toronto\\n</td>\n",
              "      <td>India Bazaar, The Beaches West</td>\n",
              "      <td>43.668291</td>\n",
              "      <td>-79.315578</td>\n",
              "    </tr>\n",
              "    <tr>\n",
              "      <th>3</th>\n",
              "      <td>M4M\\n</td>\n",
              "      <td>East Toronto\\n</td>\n",
              "      <td>Studio District</td>\n",
              "      <td>43.648000</td>\n",
              "      <td>-79.339260</td>\n",
              "    </tr>\n",
              "    <tr>\n",
              "      <th>4</th>\n",
              "      <td>M4N\\n</td>\n",
              "      <td>Central Toronto\\n</td>\n",
              "      <td>Lawrence Park</td>\n",
              "      <td>43.729455</td>\n",
              "      <td>-79.386415</td>\n",
              "    </tr>\n",
              "  </tbody>\n",
              "</table>\n",
              "</div>"
            ],
            "text/plain": [
              "  Postalcode            Borough                    Neighborhood   Latitude  \\\n",
              "0      M4E\\n     East Toronto\\n                     The Beaches  43.678148   \n",
              "1      M4K\\n     East Toronto\\n    The Danforth West, Riverdale  43.683424   \n",
              "2      M4L\\n     East Toronto\\n  India Bazaar, The Beaches West  43.668291   \n",
              "3      M4M\\n     East Toronto\\n                 Studio District  43.648000   \n",
              "4      M4N\\n  Central Toronto\\n                   Lawrence Park  43.729455   \n",
              "\n",
              "   Longitude  \n",
              "0 -79.295349  \n",
              "1 -79.354564  \n",
              "2 -79.315578  \n",
              "3 -79.339260  \n",
              "4 -79.386415  "
            ]
          },
          "metadata": {
            "tags": []
          },
          "execution_count": 29
        }
      ]
    },
    {
      "cell_type": "code",
      "metadata": {
        "id": "KGCdlDkCE-1N",
        "colab_type": "code",
        "outputId": "4249a04e-c756-4e20-f560-a8e6f9df5c9b",
        "colab": {
          "base_uri": "https://localhost:8080/",
          "height": 763
        }
      },
      "source": [
        "map_toronto = folium.Map(location=[latitude, longitude], zoom_start=11)\n",
        "\n",
        "for lat, lng, label in zip(toronto_data['Latitude'], toronto_data['Longitude'], toronto_data['Neighborhood']):\n",
        "    label = folium.Popup(label, parse_html=True)\n",
        "    folium.CircleMarker([lat, lng], radius=5, popup=label, color='blue', fill=True, fill_color='#3186cc', fill_opacity=0.7,parse_html=False).add_to(map_toronto)  \n",
        "map_toronto"
      ],
      "execution_count": 0,
      "outputs": [
        {
          "output_type": "execute_result",
          "data": {
            "text/html": [
              "<div style=\"width:100%;\"><div style=\"position:relative;width:100%;height:0;padding-bottom:60%;\"><span style=\"color:#565656\">Make this Notebook Trusted to load map: File -> Trust Notebook</span><iframe src=\"about:blank\" style=\"position:absolute;width:100%;height:100%;left:0;top:0;border:none !important;\" data-html=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 onload=\"this.contentDocument.open();this.contentDocument.write(atob(this.getAttribute('data-html')));this.contentDocument.close();\" allowfullscreen webkitallowfullscreen mozallowfullscreen></iframe></div></div>"
            ],
            "text/plain": [
              "<folium.folium.Map at 0x7fa3551d08d0>"
            ]
          },
          "metadata": {
            "tags": []
          },
          "execution_count": 30
        }
      ]
    },
    {
      "cell_type": "code",
      "metadata": {
        "id": "x42_TSKGFBoB",
        "colab_type": "code",
        "outputId": "9dfc72b0-0c90-4402-f383-ab1cf9bc7111",
        "colab": {
          "base_uri": "https://localhost:8080/",
          "height": 68
        }
      },
      "source": [
        "CLIENT_ID = 'DPBYY4JUY3DU20ALPSUV4ONY2K1GOJJKJ1NIHBB32XEMOVYY' # Put Your Client Id\n",
        "CLIENT_SECRET = '1MV443TYEP4HUO0WDUW5NQ5W10L2Y4G05NWG11WIR3NUGC5B' # Put You Client Secret \n",
        "VERSION = '20180604'\n",
        "LIMIT = 30\n",
        "print('Your credentails:')\n",
        "print('CLIENT_ID: Hidden')\n",
        "print('CLIENT_SECRET: Hidden')"
      ],
      "execution_count": 0,
      "outputs": [
        {
          "output_type": "stream",
          "text": [
            "Your credentails:\n",
            "CLIENT_ID: Hidden\n",
            "CLIENT_SECRET: Hidden\n"
          ],
          "name": "stdout"
        }
      ]
    }
  ]
}